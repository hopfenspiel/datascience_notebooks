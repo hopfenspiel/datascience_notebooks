{
 "cells": [
  {
   "cell_type": "code",
   "execution_count": 4,
   "metadata": {
    "collapsed": false
   },
   "outputs": [],
   "source": [
    "import pandas as pd\n",
    "import matplotlib.pyplot as plt\n",
    "%matplotlib inline\n",
    "\n",
    "movies = pd.read_csv(\"fandango_score_comparison.csv\")\n",
    "\n",
    "fandango_stars = movies['Fandango_Stars']\n",
    "metacritic_nr = movies['Metacritic_norm_round']"
   ]
  },
  {
   "cell_type": "code",
   "execution_count": 5,
   "metadata": {
    "collapsed": false
   },
   "outputs": [
    {
     "data": {
      "image/png": "[encoded data removed]",
      "text/plain": [
       "<matplotlib.figure.Figure at 0x7fbeadceec88>"
      ]
     },
     "metadata": {},
     "output_type": "display_data"
    },
    {
     "data": {
      "image/png": "[encoded data removed]",
      "text/plain": [
       "<matplotlib.figure.Figure at 0x7fbe5d267e80>"
      ]
     },
     "metadata": {},
     "output_type": "display_data"
    }
   ],
   "source": [
    "plt.hist(metacritic_nr)\n",
    "plt.show()\n",
    "\n",
    "plt.hist(fandango_stars)\n",
    "plt.show()"
   ]
  },
  {
   "cell_type": "markdown",
   "metadata": {},
   "source": [
    "# Metacritic vs. Fandango Histogram\n",
    "\n",
    "The most noticeable difference between the two histograms is that the Fandango histogram (the 2nd one) does not have a score less than 3.0! That seems in itself somewhat fishy. It's also apparent that the Metacritic reviews are more focused around the 2.5-4.0 mark, while the Fandango reviews are primarly in the 4.0-4.5 range.\n"
   ]
  },
  {
   "cell_type": "code",
   "execution_count": 10,
   "metadata": {
    "collapsed": true
   },
   "outputs": [],
   "source": [
    "fandango_stars_mean = fandango_stars.mean()\n",
    "metacritic_nr_mean = metacritic_nr.mean()"
   ]
  },
  {
   "cell_type": "code",
   "execution_count": 11,
   "metadata": {
    "collapsed": true
   },
   "outputs": [],
   "source": [
    "fandango_stars_std = fandango_stars.std()\n",
    "metacritic_nr_std = metacritic_nr.std()"
   ]
  },
  {
   "cell_type": "code",
   "execution_count": 14,
   "metadata": {
    "collapsed": true
   },
   "outputs": [],
   "source": [
    "fandango_stars_med = fandango_stars.median()\n",
    "metacritic_nr_med = metacritic_nr.median()"
   ]
  },
  {
   "cell_type": "code",
   "execution_count": 15,
   "metadata": {
    "collapsed": false
   },
   "outputs": [
    {
     "name": "stdout",
     "output_type": "stream",
     "text": [
      "Fandango Mean:  4.08904109589\n",
      "Metacritic Mean:  2.97260273973\n",
      "Fandango Median:  4.0\n",
      "Metacritic Median:  3.0\n",
      "Fandango Standard Deviation:  0.540385977979\n",
      "Metacritic Standard Deviation:  0.990960561374\n"
     ]
    }
   ],
   "source": [
    "print(\"Fandango Mean: \", fandango_stars_mean)\n",
    "print(\"Metacritic Mean: \", metacritic_nr_mean)\n",
    "\n",
    "print(\"Fandango Median: \", fandango_stars_med)\n",
    "print(\"Metacritic Median: \", metacritic_nr_med)\n",
    "\n",
    "print(\"Fandango Standard Deviation: \", fandango_stars_std)\n",
    "print(\"Metacritic Standard Deviation: \", metacritic_nr_std)\n"
   ]
  },
  {
   "cell_type": "markdown",
   "metadata": {},
   "source": [
    "# Metacritic vs. Fandango Mean and Std Dev\n",
    "\n",
    "Mean:\n",
    "- The Fandango mean is greatly higher than the Metacritic mean, in fact over a full point on the 5-point scale. This potentially shows some bias towards higher ratings on the Fandango website than on Metacritic.\n",
    "\n",
    "Median:\n",
    "- The Fandango median is lower than its mean, likely due to the fact that there aren't many large values in the data (less values that are far away from the mean). \n",
    "- The Metacritic median is higher than its mean, which would infer that there are some larger values in the data (more values further from the mean value in the dataset).\n",
    "\n",
    "Standard Deviation:\n",
    "- The Fandango standard deviation is lower than the Metacritic standard deviation, which would imply that the rating values in the Fandango dataset do not deviate much from the mean, whereas there is a greater variation of values in the Metacritic dataset."
   ]
  },
  {
   "cell_type": "code",
   "execution_count": 21,
   "metadata": {
    "collapsed": false
   },
   "outputs": [
    {
     "data": {
      "image/png": "[encoded data removed]",
      "text/plain": [
       "<matplotlib.figure.Figure at 0x7fbe98b4ad30>"
      ]
     },
     "metadata": {},
     "output_type": "display_data"
    }
   ],
   "source": [
    "plt.scatter(metacritic_nr, fandango_stars)\n",
    "plt.show()"
   ]
  },
  {
   "cell_type": "code",
   "execution_count": 23,
   "metadata": {
    "collapsed": false
   },
   "outputs": [
    {
     "data": {
      "text/html": [
       "<div>\n",
       "<table border=\"1\" class=\"dataframe\">\n",
       "  <thead>\n",
       "    <tr style=\"text-align: right;\">\n",
       "      <th></th>\n",
       "      <th>FILM</th>\n",
       "      <th>RottenTomatoes</th>\n",
       "      <th>RottenTomatoes_User</th>\n",
       "      <th>Metacritic</th>\n",
       "      <th>Metacritic_User</th>\n",
       "      <th>IMDB</th>\n",
       "      <th>Fandango_Stars</th>\n",
       "      <th>Fandango_Ratingvalue</th>\n",
       "      <th>RT_norm</th>\n",
       "      <th>RT_user_norm</th>\n",
       "      <th>...</th>\n",
       "      <th>RT_norm_round</th>\n",
       "      <th>RT_user_norm_round</th>\n",
       "      <th>Metacritic_norm_round</th>\n",
       "      <th>Metacritic_user_norm_round</th>\n",
       "      <th>IMDB_norm_round</th>\n",
       "      <th>Metacritic_user_vote_count</th>\n",
       "      <th>IMDB_user_vote_count</th>\n",
       "      <th>Fandango_votes</th>\n",
       "      <th>Fandango_Difference</th>\n",
       "      <th>fm_diff</th>\n",
       "    </tr>\n",
       "  </thead>\n",
       "  <tbody>\n",
       "    <tr>\n",
       "      <th>3</th>\n",
       "      <td>Do You Believe? (2015)</td>\n",
       "      <td>18</td>\n",
       "      <td>84</td>\n",
       "      <td>22</td>\n",
       "      <td>4.7</td>\n",
       "      <td>5.4</td>\n",
       "      <td>5.0</td>\n",
       "      <td>4.5</td>\n",
       "      <td>0.90</td>\n",
       "      <td>4.20</td>\n",
       "      <td>...</td>\n",
       "      <td>1.0</td>\n",
       "      <td>4.0</td>\n",
       "      <td>1.0</td>\n",
       "      <td>2.5</td>\n",
       "      <td>2.5</td>\n",
       "      <td>31</td>\n",
       "      <td>3136</td>\n",
       "      <td>1793</td>\n",
       "      <td>0.5</td>\n",
       "      <td>4.0</td>\n",
       "    </tr>\n",
       "    <tr>\n",
       "      <th>85</th>\n",
       "      <td>Little Boy (2015)</td>\n",
       "      <td>20</td>\n",
       "      <td>81</td>\n",
       "      <td>30</td>\n",
       "      <td>5.9</td>\n",
       "      <td>7.4</td>\n",
       "      <td>4.5</td>\n",
       "      <td>4.3</td>\n",
       "      <td>1.00</td>\n",
       "      <td>4.05</td>\n",
       "      <td>...</td>\n",
       "      <td>1.0</td>\n",
       "      <td>4.0</td>\n",
       "      <td>1.5</td>\n",
       "      <td>3.0</td>\n",
       "      <td>3.5</td>\n",
       "      <td>38</td>\n",
       "      <td>5927</td>\n",
       "      <td>811</td>\n",
       "      <td>0.2</td>\n",
       "      <td>3.0</td>\n",
       "    </tr>\n",
       "    <tr>\n",
       "      <th>47</th>\n",
       "      <td>Annie (2014)</td>\n",
       "      <td>27</td>\n",
       "      <td>61</td>\n",
       "      <td>33</td>\n",
       "      <td>4.8</td>\n",
       "      <td>5.2</td>\n",
       "      <td>4.5</td>\n",
       "      <td>4.2</td>\n",
       "      <td>1.35</td>\n",
       "      <td>3.05</td>\n",
       "      <td>...</td>\n",
       "      <td>1.5</td>\n",
       "      <td>3.0</td>\n",
       "      <td>1.5</td>\n",
       "      <td>2.5</td>\n",
       "      <td>2.5</td>\n",
       "      <td>108</td>\n",
       "      <td>19222</td>\n",
       "      <td>6835</td>\n",
       "      <td>0.3</td>\n",
       "      <td>3.0</td>\n",
       "    </tr>\n",
       "    <tr>\n",
       "      <th>19</th>\n",
       "      <td>Pixels (2015)</td>\n",
       "      <td>17</td>\n",
       "      <td>54</td>\n",
       "      <td>27</td>\n",
       "      <td>5.3</td>\n",
       "      <td>5.6</td>\n",
       "      <td>4.5</td>\n",
       "      <td>4.1</td>\n",
       "      <td>0.85</td>\n",
       "      <td>2.70</td>\n",
       "      <td>...</td>\n",
       "      <td>1.0</td>\n",
       "      <td>2.5</td>\n",
       "      <td>1.5</td>\n",
       "      <td>2.5</td>\n",
       "      <td>3.0</td>\n",
       "      <td>246</td>\n",
       "      <td>19521</td>\n",
       "      <td>3886</td>\n",
       "      <td>0.4</td>\n",
       "      <td>3.0</td>\n",
       "    </tr>\n",
       "    <tr>\n",
       "      <th>134</th>\n",
       "      <td>The Longest Ride (2015)</td>\n",
       "      <td>31</td>\n",
       "      <td>73</td>\n",
       "      <td>33</td>\n",
       "      <td>4.8</td>\n",
       "      <td>7.2</td>\n",
       "      <td>4.5</td>\n",
       "      <td>4.5</td>\n",
       "      <td>1.55</td>\n",
       "      <td>3.65</td>\n",
       "      <td>...</td>\n",
       "      <td>1.5</td>\n",
       "      <td>3.5</td>\n",
       "      <td>1.5</td>\n",
       "      <td>2.5</td>\n",
       "      <td>3.5</td>\n",
       "      <td>49</td>\n",
       "      <td>25214</td>\n",
       "      <td>2603</td>\n",
       "      <td>0.0</td>\n",
       "      <td>3.0</td>\n",
       "    </tr>\n",
       "  </tbody>\n",
       "</table>\n",
       "<p>5 rows × 23 columns</p>\n",
       "</div>"
      ],
      "text/plain": [
       "                        FILM  RottenTomatoes  RottenTomatoes_User  Metacritic  \\\n",
       "3     Do You Believe? (2015)              18                   84          22   \n",
       "85         Little Boy (2015)              20                   81          30   \n",
       "47              Annie (2014)              27                   61          33   \n",
       "19             Pixels (2015)              17                   54          27   \n",
       "134  The Longest Ride (2015)              31                   73          33   \n",
       "\n",
       "     Metacritic_User  IMDB  Fandango_Stars  Fandango_Ratingvalue  RT_norm  \\\n",
       "3                4.7   5.4             5.0                   4.5     0.90   \n",
       "85               5.9   7.4             4.5                   4.3     1.00   \n",
       "47               4.8   5.2             4.5                   4.2     1.35   \n",
       "19               5.3   5.6             4.5                   4.1     0.85   \n",
       "134              4.8   7.2             4.5                   4.5     1.55   \n",
       "\n",
       "     RT_user_norm   ...     RT_norm_round  RT_user_norm_round  \\\n",
       "3            4.20   ...               1.0                 4.0   \n",
       "85           4.05   ...               1.0                 4.0   \n",
       "47           3.05   ...               1.5                 3.0   \n",
       "19           2.70   ...               1.0                 2.5   \n",
       "134          3.65   ...               1.5                 3.5   \n",
       "\n",
       "     Metacritic_norm_round  Metacritic_user_norm_round  IMDB_norm_round  \\\n",
       "3                      1.0                         2.5              2.5   \n",
       "85                     1.5                         3.0              3.5   \n",
       "47                     1.5                         2.5              2.5   \n",
       "19                     1.5                         2.5              3.0   \n",
       "134                    1.5                         2.5              3.5   \n",
       "\n",
       "     Metacritic_user_vote_count  IMDB_user_vote_count  Fandango_votes  \\\n",
       "3                            31                  3136            1793   \n",
       "85                           38                  5927             811   \n",
       "47                          108                 19222            6835   \n",
       "19                          246                 19521            3886   \n",
       "134                          49                 25214            2603   \n",
       "\n",
       "     Fandango_Difference  fm_diff  \n",
       "3                    0.5      4.0  \n",
       "85                   0.2      3.0  \n",
       "47                   0.3      3.0  \n",
       "19                   0.4      3.0  \n",
       "134                  0.0      3.0  \n",
       "\n",
       "[5 rows x 23 columns]"
      ]
     },
     "execution_count": 23,
     "metadata": {},
     "output_type": "execute_result"
    }
   ],
   "source": [
    "movies['fm_diff'] = (metacritic_nr - fandango_stars).abs()\n",
    "\n",
    "movies.sort_values('fm_diff', inplace=True, ascending=False)\n",
    "movies.head()"
   ]
  },
  {
   "cell_type": "code",
   "execution_count": 29,
   "metadata": {
    "collapsed": false
   },
   "outputs": [
    {
     "name": "stdout",
     "output_type": "stream",
     "text": [
      "0.178449190739\n"
     ]
    }
   ],
   "source": [
    "import scipy.stats\n",
    "\n",
    "rval, pval = scipy.stats.pearsonr(fandango_stars, metacritic_nr)\n",
    "print(rval)"
   ]
  },
  {
   "cell_type": "markdown",
   "metadata": {},
   "source": [
    "# Correlation Coefficient, Fandango and Metacritic\n",
    "We can see that the r-value between Fandango and Metacritic is fairly low, meaning that there likely is no real correlation between Fandango ratings and Metacritic ratings."
   ]
  },
  {
   "cell_type": "code",
   "execution_count": 31,
   "metadata": {
    "collapsed": false
   },
   "outputs": [],
   "source": [
    "slope, intercept, rvalue, pvalue, stderr = scipy.stats.linregress(metacritic_nr, fandango_stars)"
   ]
  },
  {
   "cell_type": "code",
   "execution_count": 32,
   "metadata": {
    "collapsed": true
   },
   "outputs": [],
   "source": [
    "pred_3 = 3 * slope + intercept"
   ]
  },
  {
   "cell_type": "code",
   "execution_count": 33,
   "metadata": {
    "collapsed": false
   },
   "outputs": [
    {
     "data": {
      "text/plain": [
       "4.0917071528212041"
      ]
     },
     "execution_count": 33,
     "metadata": {},
     "output_type": "execute_result"
    }
   ],
   "source": [
    "pred_3"
   ]
  },
  {
   "cell_type": "markdown",
   "metadata": {},
   "source": [
    "# Predicting Fandango reviews based on Metacritic Scores\n",
    "In the above example, we predict that a movie reviewed as a 3.0 in Metacritic would be rated as a 4.0 in Fandango."
   ]
  },
  {
   "cell_type": "code",
   "execution_count": 35,
   "metadata": {
    "collapsed": false
   },
   "outputs": [
    {
     "data": {
      "image/png": "[encoded data removed]",
      "text/plain": [
       "<matplotlib.figure.Figure at 0x7fbe56af13c8>"
      ]
     },
     "metadata": {},
     "output_type": "display_data"
    }
   ],
   "source": [
    "pred_1 = 1 * slope + intercept\n",
    "pred_5 = 5 * slope + intercept\n",
    "\n",
    "plt.scatter(metac)\n",
    "plt.plot([1.0,5.0], [pred_1,pred_5])\n",
    "plt.xlim(1,5)\n",
    "plt.show()"
   ]
  },
  {
   "cell_type": "code",
   "execution_count": null,
   "metadata": {
    "collapsed": true
   },
   "outputs": [],
   "source": []
  }
 ],
 "metadata": {
  "kernelspec": {
   "display_name": "Python 3",
   "language": "python",
   "name": "python3"
  },
  "language_info": {
   "codemirror_mode": {
    "name": "ipython",
    "version": 3
   },
   "file_extension": ".py",
   "mimetype": "text/x-python",
   "name": "python",
   "nbconvert_exporter": "python",
   "pygments_lexer": "ipython3",
   "version": "3.4.3"
  }
 },
 "nbformat": 4,
 "nbformat_minor": 0
}
