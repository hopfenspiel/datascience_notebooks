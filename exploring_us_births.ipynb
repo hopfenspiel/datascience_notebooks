{
 "cells": [
  {
   "cell_type": "code",
   "execution_count": 20,
   "metadata": {
    "collapsed": false,
    "scrolled": true
   },
   "outputs": [
    {
     "data": {
      "text/plain": [
       "['year,month,date_of_month,day_of_week,births',\n",
       " '1994,1,1,6,8096',\n",
       " '1994,1,2,7,7772',\n",
       " '1994,1,3,1,10142',\n",
       " '1994,1,4,2,11248',\n",
       " '1994,1,5,3,11053',\n",
       " '1994,1,6,4,11406',\n",
       " '1994,1,7,5,11251',\n",
       " '1994,1,8,6,8653',\n",
       " '1994,1,9,7,7910']"
      ]
     },
     "execution_count": 20,
     "metadata": {},
     "output_type": "execute_result"
    }
   ],
   "source": [
    "f = open('US_births_1994-2003_CDC_NCHS.csv', 'r')\n",
    "text = f.read()\n",
    "text_split = text.split(\"\\n\")\n",
    "text_split[:10]"
   ]
  },
  {
   "cell_type": "code",
   "execution_count": null,
   "metadata": {
    "collapsed": false
   },
   "outputs": [],
   "source": [
    "# def month_births(births_list):\n",
    "#     births_per_month = {}\n",
    "#     for b in births_list:\n",
    "#         month = b[1]\n",
    "#         births = b[4]\n",
    "#         if month in births_per_month:\n",
    "#             births_per_month[month] += births\n",
    "#         else:\n",
    "#             births_per_month[month] = births\n",
    "#     return births_per_month"
   ]
  },
  {
   "cell_type": "code",
   "execution_count": null,
   "metadata": {
    "collapsed": true
   },
   "outputs": [],
   "source": [
    "# def dow_births(births_list):\n",
    "#     births_per_day = {}\n",
    "#     for b in births_list:\n",
    "#         dow = b[3]\n",
    "#         births = b[4]\n",
    "#         if dow in births_per_day:\n",
    "#             births_per_day[dow] += births\n",
    "#         else:\n",
    "#             births_per_day[dow] = births\n",
    "#     return births_per_day"
   ]
  },
  {
   "cell_type": "code",
   "execution_count": null,
   "metadata": {
    "collapsed": false
   },
   "outputs": [],
   "source": [
    "# cdc_list = read_csv(\"US_births_1994-2003_CDC_NCHS.csv\")\n",
    "# cdc_months_births = month_births(cdc_list)\n",
    "# cdc_day_births = dow_births(cdc_list)"
   ]
  },
  {
   "cell_type": "code",
   "execution_count": 3,
   "metadata": {
    "collapsed": true
   },
   "outputs": [],
   "source": [
    "def read_csv(csv_filename):\n",
    "    f = open(csv_filename, 'r')\n",
    "    text = f.read()\n",
    "    string_list = text.split(\"\\n\")\n",
    "    text_header = string_list.pop(0)\n",
    "    final_list = []\n",
    "    for s in string_list:\n",
    "        int_fields = []\n",
    "        string_fields = s.split(\",\")\n",
    "        for st in string_fields:\n",
    "            int_fields.append(int(st))\n",
    "        final_list.append(int_fields)\n",
    "    return final_list"
   ]
  },
  {
   "cell_type": "code",
   "execution_count": 4,
   "metadata": {
    "collapsed": false
   },
   "outputs": [],
   "source": [
    "def calc_counts(data, column, births_col):\n",
    "    births_dict = {}\n",
    "    for d in data:\n",
    "        births = d[births_col]\n",
    "        col = d[column]\n",
    "        if col in births_dict:\n",
    "            births_dict[col] += births\n",
    "        else:\n",
    "            births_dict[col] = births\n",
    "    return births_dict"
   ]
  },
  {
   "cell_type": "code",
   "execution_count": 16,
   "metadata": {
    "collapsed": false
   },
   "outputs": [],
   "source": [
    "def combine_sources(source_1, source_2):\n",
    "    years_1 = list(calc_counts(source_1, 0, 4).keys())\n",
    "    new_2 = []\n",
    "    for s in source_2:\n",
    "        if s[0] not in years_1:\n",
    "            new_2.append(s)\n",
    "    combined = source_1 + new_2\n",
    "    return combined"
   ]
  },
  {
   "cell_type": "code",
   "execution_count": 17,
   "metadata": {
    "collapsed": false
   },
   "outputs": [],
   "source": [
    "cdc_list = read_csv(\"US_births_1994-2003_CDC_NCHS.csv\")\n",
    "ssa_list = read_csv(\"US_births_2000-2014_SSA.csv\")\n",
    "combined_list = combine_sources(cdc_list, ssa_list)"
   ]
  },
  {
   "cell_type": "code",
   "execution_count": 23,
   "metadata": {
    "collapsed": false
   },
   "outputs": [],
   "source": [
    "all_births_year = calc_counts(combined_list, 0, 4)\n",
    "all_births_months = calc_counts(combined_list, 1, 4)\n",
    "all_births_dom = calc_counts(combined_list, 2, 4)\n",
    "all_births_dow = calc_counts(combined_list, 3, 4)"
   ]
  },
  {
   "cell_type": "code",
   "execution_count": null,
   "metadata": {
    "collapsed": true
   },
   "outputs": [],
   "source": []
  }
 ],
 "metadata": {
  "anaconda-cloud": {},
  "kernelspec": {
   "display_name": "Python 3",
   "language": "python",
   "name": "python3"
  },
  "language_info": {
   "codemirror_mode": {
    "name": "ipython",
    "version": 3
   },
   "file_extension": ".py",
   "mimetype": "text/x-python",
   "name": "python",
   "nbconvert_exporter": "python",
   "pygments_lexer": "ipython3",
   "version": "3.4.3"
  }
 },
 "nbformat": 4,
 "nbformat_minor": 1
}
