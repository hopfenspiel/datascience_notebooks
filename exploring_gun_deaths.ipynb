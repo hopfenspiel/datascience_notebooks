{
 "cells": [
  {
   "cell_type": "code",
   "execution_count": 9,
   "metadata": {
    "collapsed": false
   },
   "outputs": [
    {
     "name": "stdout",
     "output_type": "stream",
     "text": [
      "[['1', '2012', '01', 'Suicide', '0', 'M', '34', 'Asian/Pacific Islander', '100', 'Home', '4'], ['2', '2012', '01', 'Suicide', '0', 'F', '21', 'White', '100', 'Street', '3'], ['3', '2012', '01', 'Suicide', '0', 'M', '60', 'White', '100', 'Other specified', '4'], ['4', '2012', '02', 'Suicide', '0', 'M', '64', 'White', '100', 'Home', '4'], ['5', '2012', '02', 'Suicide', '0', 'M', '31', 'White', '100', 'Other specified', '2']]\n"
     ]
    }
   ],
   "source": [
    "import csv\n",
    "\n",
    "file = open(\"guns.csv\", \"r\")\n",
    "data = list(csv.reader(file))\n",
    "headers = data.pop(0)\n",
    "print(data[:5])"
   ]
  },
  {
   "cell_type": "code",
   "execution_count": 13,
   "metadata": {
    "collapsed": false
   },
   "outputs": [
    {
     "name": "stdout",
     "output_type": "stream",
     "text": [
      "{'2013': 33636, '2012': 33563, '2014': 33599}\n"
     ]
    }
   ],
   "source": [
    "years = [d[1] for d in data]\n",
    "year_counts = {}\n",
    "for year in years:\n",
    "    if year not in year_counts:\n",
    "        year_counts[year] = 1\n",
    "    else:\n",
    "        year_counts[year] += 1\n",
    "print(year_counts)"
   ]
  },
  {
   "cell_type": "code",
   "execution_count": 18,
   "metadata": {
    "collapsed": false
   },
   "outputs": [
    {
     "name": "stdout",
     "output_type": "stream",
     "text": [
      "{datetime.datetime(2012, 11, 1, 0, 0): 2729, datetime.datetime(2014, 4, 1, 0, 0): 2862, datetime.datetime(2014, 5, 1, 0, 0): 2864, datetime.datetime(2013, 2, 1, 0, 0): 2375, datetime.datetime(2013, 11, 1, 0, 0): 2758, datetime.datetime(2013, 5, 1, 0, 0): 2806, datetime.datetime(2013, 8, 1, 0, 0): 2859, datetime.datetime(2013, 9, 1, 0, 0): 2742, datetime.datetime(2013, 3, 1, 0, 0): 2862, datetime.datetime(2014, 2, 1, 0, 0): 2361, datetime.datetime(2014, 3, 1, 0, 0): 2684, datetime.datetime(2012, 7, 1, 0, 0): 3026, datetime.datetime(2014, 1, 1, 0, 0): 2651, datetime.datetime(2012, 5, 1, 0, 0): 2999, datetime.datetime(2014, 10, 1, 0, 0): 2865, datetime.datetime(2012, 9, 1, 0, 0): 2852, datetime.datetime(2013, 10, 1, 0, 0): 2808, datetime.datetime(2013, 4, 1, 0, 0): 2798, datetime.datetime(2013, 12, 1, 0, 0): 2765, datetime.datetime(2013, 7, 1, 0, 0): 3079, datetime.datetime(2014, 11, 1, 0, 0): 2756, datetime.datetime(2014, 7, 1, 0, 0): 2884, datetime.datetime(2012, 8, 1, 0, 0): 2954, datetime.datetime(2012, 10, 1, 0, 0): 2733, datetime.datetime(2012, 1, 1, 0, 0): 2758, datetime.datetime(2012, 6, 1, 0, 0): 2826, datetime.datetime(2013, 1, 1, 0, 0): 2864, datetime.datetime(2014, 9, 1, 0, 0): 2914, datetime.datetime(2012, 12, 1, 0, 0): 2791, datetime.datetime(2012, 4, 1, 0, 0): 2795, datetime.datetime(2014, 8, 1, 0, 0): 2970, datetime.datetime(2012, 3, 1, 0, 0): 2743, datetime.datetime(2014, 12, 1, 0, 0): 2857, datetime.datetime(2014, 6, 1, 0, 0): 2931, datetime.datetime(2012, 2, 1, 0, 0): 2357, datetime.datetime(2013, 6, 1, 0, 0): 2920}\n"
     ]
    }
   ],
   "source": [
    "import datetime\n",
    "dates = [datetime.datetime(year=int(d[1]), month=int(d[2]), day=1) for d in data]\n",
    "\n",
    "date_counts = {}\n",
    "for date in dates:\n",
    "    if date not in date_counts:\n",
    "        date_counts[date] = 1\n",
    "    else:\n",
    "        date_counts[date] += 1\n",
    "print(date_counts)"
   ]
  },
  {
   "cell_type": "code",
   "execution_count": 22,
   "metadata": {
    "collapsed": false
   },
   "outputs": [],
   "source": [
    "def makeCounts(col_number):\n",
    "    count_dict = {}\n",
    "    for d in data:\n",
    "        c = d[col_number]\n",
    "        if c not in count_dict:\n",
    "            count_dict[c] = 1\n",
    "        else:\n",
    "            count_dict[c] += 1\n",
    "    return count_dict\n",
    "sex_counts = makeCounts(5)\n",
    "race_counts = makeCounts(7)"
   ]
  },
  {
   "cell_type": "markdown",
   "metadata": {},
   "source": [
    "# Preliminary findings\n",
    "The data seems to show the following:\n",
    "- males have a predominantly higher death rate than females; and\n",
    "- whites account for the most gun deaths (not accounting for suicides, homicides, etc), followed by blacks"
   ]
  },
  {
   "cell_type": "code",
   "execution_count": 27,
   "metadata": {
    "collapsed": true
   },
   "outputs": [],
   "source": [
    "census = list(csv.reader(open(\"census.csv\", \"r\")))"
   ]
  },
  {
   "cell_type": "code",
   "execution_count": 29,
   "metadata": {
    "collapsed": false
   },
   "outputs": [
    {
     "name": "stdout",
     "output_type": "stream",
     "text": [
      "[['Id', 'Year', 'Id', 'Sex', 'Id', 'Hispanic Origin', 'Id', 'Id2', 'Geography', 'Total', 'Race Alone - White', 'Race Alone - Hispanic', 'Race Alone - Black or African American', 'Race Alone - American Indian and Alaska Native', 'Race Alone - Asian', 'Race Alone - Native Hawaiian and Other Pacific Islander', 'Two or More Races'], ['cen42010', 'April 1, 2010 Census', 'totsex', 'Both Sexes', 'tothisp', 'Total', '0100000US', '', 'United States', '308745538', '197318956', '44618105', '40250635', '3739506', '15159516', '674625', '6984195']]\n"
     ]
    }
   ],
   "source": [
    "census"
   ]
  },
  {
   "cell_type": "code",
   "execution_count": 36,
   "metadata": {
    "collapsed": false
   },
   "outputs": [
    {
     "name": "stdout",
     "output_type": "stream",
     "text": [
      "{'Asian/Pacific Islander': 8.374309664161762, 'White': 33.56849303419181, 'Hispanic': 20.220491210910907, 'Native American/Native Alaskan': 24.521955573811088, 'Black': 57.8773477735196}\n"
     ]
    }
   ],
   "source": [
    "mapping = {\n",
    "    \"Asian/Pacific Islander\": int(census[1][14]) + int(census[1][15]),\n",
    "    \"Black\" : int(census[1][12]),\n",
    "    \"Native American/Native Alaskan\" : int(census[1][13]),\n",
    "    \"Hispanic\" : int(census[1][11]),\n",
    "    \"White\" : int(census[1][10])\n",
    "}\n",
    "\n",
    "race_per_hundredk = {}\n",
    "for key, value in race_counts.items():\n",
    "    race_per_hundredk[key] = (value / mapping[key]) * 100000\n",
    "print(race_per_hundredk)"
   ]
  },
  {
   "cell_type": "code",
   "execution_count": 40,
   "metadata": {
    "collapsed": false
   },
   "outputs": [
    {
     "name": "stdout",
     "output_type": "stream",
     "text": [
      "{'White': 9147, 'Asian/Pacific Islander': 559, 'Hispanic': 5634, 'Native American/Native Alaskan': 326, 'Black': 19510}\n"
     ]
    }
   ],
   "source": [
    "intents = [d[3] for d in data]\n",
    "races = [d[7] for d in data]\n",
    "\n",
    "homicide_race_per_hundredk = {}\n",
    "\n",
    "for idx, race in enumerate(races):\n",
    "    if intents[idx] == \"Homicide\":\n",
    "        if race not in homicide_race_per_hundredk:\n",
    "            homicide_race_per_hundredk[race] = 1\n",
    "        else:\n",
    "            homicide_race_per_hundredk[race] += 1\n",
    "print(homicide_race_per_hundredk)    "
   ]
  },
  {
   "cell_type": "code",
   "execution_count": null,
   "metadata": {
    "collapsed": true
   },
   "outputs": [],
   "source": [
    "homicide_rate_per_hundredk_per_race = {}\n",
    "for key, value in homicide_race_per_hundredk.items():\n",
    "    race_per_hundredk[key] = (value / mapping[key]) * 100000\n",
    "print(race_per_hundredk)"
   ]
  }
 ],
 "metadata": {
  "kernelspec": {
   "display_name": "Python 3",
   "language": "python",
   "name": "python3"
  },
  "language_info": {
   "codemirror_mode": {
    "name": "ipython",
    "version": 3
   },
   "file_extension": ".py",
   "mimetype": "text/x-python",
   "name": "python",
   "nbconvert_exporter": "python",
   "pygments_lexer": "ipython3",
   "version": "3.4.3"
  }
 },
 "nbformat": 4,
 "nbformat_minor": 0
}
