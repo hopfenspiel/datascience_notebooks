{
 "cells": [
  {
   "cell_type": "code",
   "execution_count": 1,
   "metadata": {
    "collapsed": false
   },
   "outputs": [
    {
     "name": "stderr",
     "output_type": "stream",
     "text": [
      "C:\\Users\\erik.schau\\AppData\\Local\\Continuum\\Anaconda3\\lib\\site-packages\\ipykernel\\__main__.py:9: FutureWarning: pd.rolling_mean is deprecated for Series and will be removed in a future version, replace with \n",
      "\tSeries.rolling(center=False,min_periods=5,window=5).mean()\n",
      "C:\\Users\\erik.schau\\AppData\\Local\\Continuum\\Anaconda3\\lib\\site-packages\\ipykernel\\__main__.py:10: FutureWarning: pd.rolling_mean is deprecated for Series and will be removed in a future version, replace with \n",
      "\tSeries.rolling(center=False,window=30).mean()\n",
      "C:\\Users\\erik.schau\\AppData\\Local\\Continuum\\Anaconda3\\lib\\site-packages\\ipykernel\\__main__.py:11: FutureWarning: pd.rolling_mean is deprecated for Series and will be removed in a future version, replace with \n",
      "\tSeries.rolling(center=False,window=365).mean()\n",
      "C:\\Users\\erik.schau\\AppData\\Local\\Continuum\\Anaconda3\\lib\\site-packages\\ipykernel\\__main__.py:12: FutureWarning: pd.rolling_mean is deprecated for Series and will be removed in a future version, replace with \n",
      "\tSeries.rolling(center=False,window=5).mean()\n",
      "C:\\Users\\erik.schau\\AppData\\Local\\Continuum\\Anaconda3\\lib\\site-packages\\ipykernel\\__main__.py:13: FutureWarning: pd.rolling_mean is deprecated for Series and will be removed in a future version, replace with \n",
      "\tSeries.rolling(center=False,window=365).mean()\n"
     ]
    },
    {
     "name": "stdout",
     "output_type": "stream",
     "text": [
      "14.3703440164\n"
     ]
    }
   ],
   "source": [
    "import pandas as pd\n",
    "from datetime import datetime\n",
    "\n",
    "sphist = pd.read_csv('sphist.csv')\n",
    "\n",
    "sphist['Date'] = pd.to_datetime(sphist['Date'])\n",
    "sphist.sort_values('Date')\n",
    "\n",
    "sphist['mean_5'] = pd.rolling_mean(sphist['Close'],5,5)\n",
    "sphist['mean_30'] = pd.rolling_mean(sphist['Close'],30)\n",
    "sphist['mean_365'] = pd.rolling_mean(sphist['Close'], 365)\n",
    "sphist['mean_vol_5'] = pd.rolling_mean(sphist['Volume'],5)\n",
    "sphist['mean_vol_365'] = pd.rolling_mean(sphist['Volume'],365)\n",
    "\n",
    "sphist['mean_5'] = sphist['mean_5'].shift(-5)\n",
    "sphist['mean_30'] = sphist['mean_30'].shift(-1)\n",
    "sphist['mean_365'] = sphist['mean_365'].shift(-365)\n",
    "sphist['mean_vol_5'] = sphist['mean_vol_5'].shift(-5)\n",
    "sphist['mean_vol_365'] = sphist['mean_vol_365'].shift(-365)\n",
    "\n",
    "sphist = sphist.dropna(axis=0)\n",
    "sphist = sphist[sphist['Date'] >= '1951-01-03']\n",
    "train = sphist[sphist['Date'] < '2013-01-01']\n",
    "test = sphist[sphist['Date'] >= '2013-01-01']\n",
    "\n",
    "from sklearn.linear_model import LinearRegression\n",
    "\n",
    "lr = LinearRegression()\n",
    "train_cols = ['mean_5','mean_30','mean_365',\n",
    "              'mean_vol_5','mean_vol_365']\n",
    "lr.fit(train[train_cols], train['Close'])\n",
    "predictions = lr.predict(test[train_cols])\n",
    "\n",
    "mae = sum(abs(predictions - test['Close'])) / len(predictions)\n",
    "\n",
    "print(mae)\n"
   ]
  },
  {
   "cell_type": "code",
   "execution_count": null,
   "metadata": {
    "collapsed": true
   },
   "outputs": [],
   "source": []
  }
 ],
 "metadata": {
  "kernelspec": {
   "display_name": "Python 3",
   "language": "python",
   "name": "python3"
  },
  "language_info": {
   "codemirror_mode": {
    "name": "ipython",
    "version": 3
   },
   "file_extension": ".py",
   "mimetype": "text/x-python",
   "name": "python",
   "nbconvert_exporter": "python",
   "pygments_lexer": "ipython3",
   "version": "3.5.2"
  }
 },
 "nbformat": 4,
 "nbformat_minor": 2
}
